{
 "cells": [
  {
   "cell_type": "code",
   "execution_count": 4,
   "id": "d23c6370",
   "metadata": {},
   "outputs": [],
   "source": [
    "import pickle\n",
    "import pandas as pd\n",
    "import gradio as gr\n",
    "\n",
    "with open('heart.pkl', \"rb\") as f:\n",
    "\tclf  = pickle.load(f)"
   ]
  },
  {
   "cell_type": "code",
   "execution_count": 2,
   "id": "c9c47f40",
   "metadata": {},
   "outputs": [
    {
     "data": {
      "text/plain": [
       "0.803921568627451"
      ]
     },
     "execution_count": 2,
     "metadata": {},
     "output_type": "execute_result"
    }
   ],
   "source": [
    "df = pd.read_pickle('heart.pkl',compression='infer')\n",
    "df"
   ]
  },
  {
   "cell_type": "code",
   "execution_count": 9,
   "id": "448a7d84",
   "metadata": {},
   "outputs": [
    {
     "name": "stdout",
     "output_type": "stream",
     "text": [
      "Running on local URL:  http://127.0.0.1:7862\n",
      "\n",
      "To create a public link, set `share=True` in `launch()`.\n"
     ]
    },
    {
     "data": {
      "text/html": [
       "<div><iframe src=\"http://127.0.0.1:7862/\" width=\"100%\" height=\"500\" allow=\"autoplay; camera; microphone; clipboard-read; clipboard-write;\" frameborder=\"0\" allowfullscreen></iframe></div>"
      ],
      "text/plain": [
       "<IPython.core.display.HTML object>"
      ]
     },
     "metadata": {},
     "output_type": "display_data"
    },
    {
     "data": {
      "text/plain": []
     },
     "execution_count": 9,
     "metadata": {},
     "output_type": "execute_result"
    },
    {
     "name": "stderr",
     "output_type": "stream",
     "text": [
      "Traceback (most recent call last):\n",
      "  File \"C:\\Users\\JASHWANTH\\AppData\\Local\\Programs\\Python\\Python310\\lib\\site-packages\\gradio\\routes.py\", line 384, in run_predict\n",
      "    output = await app.get_blocks().process_api(\n",
      "  File \"C:\\Users\\JASHWANTH\\AppData\\Local\\Programs\\Python\\Python310\\lib\\site-packages\\gradio\\blocks.py\", line 1024, in process_api\n",
      "    result = await self.call_function(\n",
      "  File \"C:\\Users\\JASHWANTH\\AppData\\Local\\Programs\\Python\\Python310\\lib\\site-packages\\gradio\\blocks.py\", line 836, in call_function\n",
      "    prediction = await anyio.to_thread.run_sync(\n",
      "  File \"C:\\Users\\JASHWANTH\\AppData\\Local\\Programs\\Python\\Python310\\lib\\site-packages\\anyio\\to_thread.py\", line 31, in run_sync\n",
      "    return await get_asynclib().run_sync_in_worker_thread(\n",
      "  File \"C:\\Users\\JASHWANTH\\AppData\\Local\\Programs\\Python\\Python310\\lib\\site-packages\\anyio\\_backends\\_asyncio.py\", line 937, in run_sync_in_worker_thread\n",
      "    return await future\n",
      "  File \"C:\\Users\\JASHWANTH\\AppData\\Local\\Programs\\Python\\Python310\\lib\\site-packages\\anyio\\_backends\\_asyncio.py\", line 867, in run\n",
      "    result = context.run(func, *args)\n",
      "  File \"C:\\Users\\JASHWANTH\\AppData\\Local\\Temp\\ipykernel_6912\\1711940556.py\", line 4, in make_prediction\n",
      "    preds = clf.predict([[age,sex,cp,trestbp,chol,fbs,restecg,thalach,exang,oldpeak,slope,ca,thal]])\n",
      "AttributeError: 'float' object has no attribute 'predict'\n"
     ]
    }
   ],
   "source": [
    "def make_prediction(age,sex,cp,trestbp,chol,fbs,restecg,thalach,exang,oldpeak,slope,ca,thal):\n",
    "    with open(\"heart.pkl\", \"rb\") as f:\n",
    "        clf  = pickle.load(f)\n",
    "        preds = clf.predict([[age,sex,cp,trestbp,chol,fbs,restecg,thalach,exang,oldpeak,slope,ca,thal]])\n",
    "    if preds == 1:\n",
    "            return \"You are Healthy\"\n",
    "    return \"You are not healthy\"\n",
    "\n",
    "#Create the input component for Gradio since we are expecting 4 inputs\n",
    "\n",
    "age = gr.Number(label = \"Enter the Age of the Individual\")\n",
    "sex = gr.Number(label= \"Enter sex {1:Male, 2: Female}\")\n",
    "cp=gr.Number(label= \"cp\")\n",
    "trestbp = gr.Textbox(label = \"trestbp\")\n",
    "chol = gr.Number(label = \"chol\")\n",
    "fbs=gr.Number(label = \"fbs\")\n",
    "restecg=gr.Number(label = \"restcg\")\n",
    "thalch=gr.Number(label = \"thalch\")\n",
    "exang=gr.Number(label = \"exang\")\n",
    "oldpeak=gr.Number(label = \"oldpeak\")\n",
    "slope=gr.Number(label = \"slope\")\n",
    "ca=gr.Number(label = \"ca\")\n",
    "thalach=gr.Number(label = \"thal\")\n",
    "# We create the output\n",
    "output = gr.Textbox()\n",
    "\n",
    "\n",
    "app = gr.Interface(fn = make_prediction, inputs=[age,sex,cp,trestbp,chol,fbs,restecg,thalach,exang,oldpeak,slope,ca,thal], outputs=output)\n",
    "app.launch()"
   ]
  },
  {
   "cell_type": "code",
   "execution_count": null,
   "id": "d7d35a79",
   "metadata": {},
   "outputs": [],
   "source": [
    "age,sex,cp,trestbp,chol,fbs,restecg,thalach,exang,oldpeak,slope,ca,thal"
   ]
  }
 ],
 "metadata": {
  "kernelspec": {
   "display_name": "Python 3 (ipykernel)",
   "language": "python",
   "name": "python3"
  },
  "language_info": {
   "codemirror_mode": {
    "name": "ipython",
    "version": 3
   },
   "file_extension": ".py",
   "mimetype": "text/x-python",
   "name": "python",
   "nbconvert_exporter": "python",
   "pygments_lexer": "ipython3",
   "version": "3.10.6"
  }
 },
 "nbformat": 4,
 "nbformat_minor": 5
}
